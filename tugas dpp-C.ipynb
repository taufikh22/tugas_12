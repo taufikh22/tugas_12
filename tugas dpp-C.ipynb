{
 "cells": [
  {
   "cell_type": "code",
   "execution_count": 1,
   "id": "493599f4",
   "metadata": {},
   "outputs": [
    {
     "name": "stdout",
     "output_type": "stream",
     "text": [
      "PI: 3.142857142857143\n",
      "1386.0\n",
      "441\n"
     ]
    }
   ],
   "source": [
    "import matematika\n",
    "\n",
    "print(\"PI:\",matematika.pi)\n",
    "print(matematika.luas_lingkaran(radius=21))\n",
    "print(matematika.luas_persegi(sisi=21))"
   ]
  },
  {
   "cell_type": "code",
   "execution_count": 5,
   "id": "b9beeda1",
   "metadata": {},
   "outputs": [],
   "source": [
    "from luas.segitiga import luas_segitiga\n",
    "from luas import lingkaran, persegi\n",
    "from volume.kubik import volume_kubik\n",
    "import volume.bola\n",
    "from volume.trapesium import *"
   ]
  },
  {
   "cell_type": "code",
   "execution_count": 6,
   "id": "2abb165a",
   "metadata": {},
   "outputs": [
    {
     "name": "stdout",
     "output_type": "stream",
     "text": [
      "100\n",
      "1386.0\n"
     ]
    }
   ],
   "source": [
    "from persegi import luas as luas_persegi\n",
    "from lingkaran import luas as luas_lingkaran\n",
    "\n",
    "print(luas_persegi(10))\n",
    "print(luas_lingkaran(21))"
   ]
  },
  {
   "cell_type": "code",
   "execution_count": null,
   "id": "2d64cd38",
   "metadata": {},
   "outputs": [],
   "source": []
  }
 ],
 "metadata": {
  "kernelspec": {
   "display_name": "Python 3 (ipykernel)",
   "language": "python",
   "name": "python3"
  },
  "language_info": {
   "codemirror_mode": {
    "name": "ipython",
    "version": 3
   },
   "file_extension": ".py",
   "mimetype": "text/x-python",
   "name": "python",
   "nbconvert_exporter": "python",
   "pygments_lexer": "ipython3",
   "version": "3.9.12"
  }
 },
 "nbformat": 4,
 "nbformat_minor": 5
}
